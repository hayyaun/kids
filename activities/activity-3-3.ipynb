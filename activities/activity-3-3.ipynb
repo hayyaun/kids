{
 "cells": [
  {
   "cell_type": "markdown",
   "metadata": {},
   "source": [
    "<div dir=\"rtl\">\n",
    "\n",
    "### !تبریک میگم 🥳🥳\n",
    "\n",
    "دیگه نیازی نیست قدم به قدم مسئله حل کنید تا به جواب برسید  \n",
    "از اینجا به بعد شما میتونید از فایل های راهنمای هر تمرین کمک بگیرید  \n",
    "برای شروع میتونی از [راهنمای استفاده از فایل های راهنما](https://github.com/hayyaun/kids/tree/main/helps#readme) کمک بگیری\n",
    "\n",
    "🥳🥳🥳🥳🥳\n",
    "\n",
    "</div>\n"
   ]
  }
 ],
 "metadata": {
  "language_info": {
   "name": "python"
  }
 },
 "nbformat": 4,
 "nbformat_minor": 2
}
