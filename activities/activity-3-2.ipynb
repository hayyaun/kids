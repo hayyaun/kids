{
 "cells": [
  {
   "cell_type": "markdown",
   "metadata": {},
   "source": [
    "<div dir=\"rtl\">\n",
    "\n",
    "## فعالیت تمرین عدد اول\n",
    "\n",
    "بعد از حل این مینی تمرین ها شما در نهایت تمرین تشخیص عدد اول رو حل کردید!\n",
    "\n",
    "لطفا برنامه ای بنویسید که:\n",
    "\n",
    "</div>\n"
   ]
  },
  {
   "cell_type": "markdown",
   "metadata": {},
   "source": [
    "<div dir=\"rtl\">\n",
    "\n",
    "۱. یک عدد رو از کاربر بگیره و تقسیم باقی مونده ش به ۲ رو بنویسه\n",
    "\n",
    "> برای اینکه باقی مونده یک عدد به یک عدد دیگه رو پیدا کنید از علامت % استفاده می کنیم  \n",
    "> صورت در سمت چپ و مخرج در سمت راست قرار می گیره و نتیجه نهایی میشه باقی مونده. مثلا:\n",
    "\n",
    "</div>\n",
    "\n",
    "> 5 % 2 == 1\n"
   ]
  },
  {
   "cell_type": "code",
   "execution_count": null,
   "metadata": {},
   "outputs": [],
   "source": [
    "# TODO 1"
   ]
  },
  {
   "cell_type": "markdown",
   "metadata": {},
   "source": [
    "<div dir=\"rtl\">\n",
    "\n",
    "۲. یک عدد رو از کاربر بگیره و باقی مونده اش رو به اعداد ۲ تا ۱۰ بنویسه.\n",
    "\n",
    "</div>\n"
   ]
  },
  {
   "cell_type": "code",
   "execution_count": null,
   "metadata": {},
   "outputs": [],
   "source": [
    "# TODO 2"
   ]
  },
  {
   "cell_type": "markdown",
   "metadata": {},
   "source": [
    "<div dir=\"rtl\">\n",
    "\n",
    "۳. عدد n رو از کاربر بگیره و باقی مونده اش به اعداد ۲ تا n رو بنویسه\n",
    "\n",
    "</div>\n"
   ]
  },
  {
   "cell_type": "code",
   "execution_count": null,
   "metadata": {},
   "outputs": [],
   "source": [
    "# TODO 3"
   ]
  },
  {
   "cell_type": "markdown",
   "metadata": {},
   "source": [
    "<div dir=\"rtl\">\n",
    "\n",
    "۴. یک عدد از کاربر بگیره و بگه **آیا** باقی مونده اش به اعداد ۲ تا n جایی صفر شده یا نشده\n",
    "\n",
    "> برای اینکه کلمه «آیا» رو وارد کد کنیم از if استفاده میکنیم که درس سوم خوندیم\n",
    "\n",
    "</div>\n"
   ]
  },
  {
   "cell_type": "code",
   "execution_count": null,
   "metadata": {},
   "outputs": [],
   "source": [
    "# TODO 4"
   ]
  },
  {
   "cell_type": "markdown",
   "metadata": {},
   "source": [
    "<div dir=\"rtl\">\n",
    "\n",
    "۵. یک پرچم به اسم is_prime بسازه و مقدارش رو برابر True بذاره  \n",
    "دقیقا مثل تمرین قبل: عدد n رو از کاربر بگیره و ببینه آیا باقی مونده اش به اعداد ۲ تا n جایی صفر شده یا نشده ‍  \n",
    "اگه جایی صفر شده باشه یعنی عدد اول نیست و پرچم is_prime رو برابر False می کنیم. در غیر این صورت کاری به پرچم دست نمیزنیم!\n",
    "\n",
    "</div>\n"
   ]
  },
  {
   "cell_type": "code",
   "execution_count": null,
   "metadata": {},
   "outputs": [],
   "source": [
    "# TODO 5"
   ]
  },
  {
   "cell_type": "markdown",
   "metadata": {},
   "source": [
    "<div dir=\"rtl\">\n",
    "\n",
    "تبریک میگم شما مساله تشخیص عدد اول رو حل کردید 🥳🥳\n",
    "\n",
    "> اگه براتون سواله که چرا اگه باقی مونده صفر نبود پرچم رو دست نمیزنیم میتونید تست کنید و نتیجه ش رو آنالیز کنید\n",
    "\n",
    "</div>\n"
   ]
  }
 ],
 "metadata": {
  "kernelspec": {
   "display_name": "usr",
   "language": "python",
   "name": "python3"
  },
  "language_info": {
   "name": "python",
   "version": "3.12.4"
  }
 },
 "nbformat": 4,
 "nbformat_minor": 2
}
