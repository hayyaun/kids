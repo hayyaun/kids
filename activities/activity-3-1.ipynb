{
 "cells": [
  {
   "cell_type": "markdown",
   "metadata": {
    "slideshow": {
     "slide_type": "slide"
    }
   },
   "source": [
    "<div dir=\"rtl\">\n",
    "\n",
    "## فعالیت تمرین فاکتوریل\n",
    "\n",
    "بعد از حل این مینی تمرین ها شما در نهایت تمرین فاکتوریل رو حل کردید!\n",
    "\n",
    "لطفا برنامه ای بنویسید که:\n",
    "\n",
    "</div>\n"
   ]
  },
  {
   "cell_type": "markdown",
   "metadata": {},
   "source": [
    "<div dir=\"rtl\">\n",
    "\n",
    "۱. یک عدد از کاربر بگیره و همون عدد رو فقط نشون بده بهش دوباره (درس دوم قسمت آخر)\n",
    "\n",
    "</div>\n"
   ]
  },
  {
   "cell_type": "code",
   "execution_count": null,
   "metadata": {},
   "outputs": [],
   "source": [
    "# TODO 1"
   ]
  },
  {
   "cell_type": "markdown",
   "metadata": {},
   "source": [
    "<div dir=\"rtl\">\n",
    "\n",
    "۲. یک عدد از کاربر بگیره ضرب در ۲ کنه و نشونش بده\n",
    "\n",
    "</div>\n"
   ]
  },
  {
   "cell_type": "code",
   "execution_count": null,
   "metadata": {},
   "outputs": [],
   "source": [
    "# TODO 2\n"
   ]
  },
  {
   "cell_type": "markdown",
   "metadata": {},
   "source": [
    "<div dir=\"rtl\">\n",
    "\n",
    "۳. با استفاده از حلقه ها که درس ۳ خوندیم - ده بار بنویسه سلام\n",
    "\n",
    "</div>\n"
   ]
  },
  {
   "cell_type": "code",
   "execution_count": null,
   "metadata": {},
   "outputs": [],
   "source": [
    "# TODO 3"
   ]
  },
  {
   "cell_type": "markdown",
   "metadata": {},
   "source": [
    "<div dir=\"rtl\">\n",
    "\n",
    "۴. یک عدد از کاربر بگیره - ده بار نشونش بده\n",
    "\n",
    "</div>\n"
   ]
  },
  {
   "cell_type": "code",
   "execution_count": null,
   "metadata": {},
   "outputs": [],
   "source": [
    "# TODO 4"
   ]
  },
  {
   "cell_type": "markdown",
   "metadata": {},
   "source": [
    "<div dir=\"rtl\">\n",
    "\n",
    "۵. یک عدد (n) رو از کاربر بگیره و ده بار نشونش بده\n",
    "\n",
    "</div>\n"
   ]
  },
  {
   "cell_type": "code",
   "execution_count": null,
   "metadata": {},
   "outputs": [],
   "source": [
    "# TODO 5"
   ]
  },
  {
   "cell_type": "markdown",
   "metadata": {},
   "source": [
    "<div dir=\"rtl\">\n",
    "\n",
    "۶. یک عدد (n) رو از کاربر بگیره و n بار نشونش بده\n",
    "\n",
    "</div>\n"
   ]
  },
  {
   "cell_type": "code",
   "execution_count": null,
   "metadata": {},
   "outputs": [],
   "source": [
    "# TODO 6"
   ]
  },
  {
   "cell_type": "markdown",
   "metadata": {},
   "source": [
    "<div dir=\"rtl\">\n",
    "\n",
    "۷. بدون اینکه چیزی از کاربر بگیره - فقط از ۵ تا ۱۲ رو بنویسه\n",
    "\n",
    "</div>\n"
   ]
  },
  {
   "cell_type": "code",
   "execution_count": null,
   "metadata": {},
   "outputs": [],
   "source": [
    "# TODO 7"
   ]
  },
  {
   "cell_type": "markdown",
   "metadata": {},
   "source": [
    "<div dir=\"rtl\">\n",
    "\n",
    "۸. عدد n رو از کاربر بگیره و از n/2 تا n رو بنویسه\n",
    "\n",
    "> برای اینکه عدد n/2 اعشاری نشه میتونی اینجوری بنویسیش:  \n",
    "> int(n/2) - تابع اینت رو درس دوم خوندیم\n",
    "\n",
    "</div>\n"
   ]
  },
  {
   "cell_type": "markdown",
   "metadata": {},
   "source": [
    "<div dir=\"rtl\">\n",
    "\n",
    "۹. عدد n رو از کاربر بگیره... مقدار s رو مساوی صفر بگیره  \n",
    "تو حلقه از ۱ تا n رو اضافه کنه دونه دونه به s  \n",
    "بعد که از حلقه در اومد s رو بنویسه\n",
    "\n",
    "> برای افزایش دادن مقدار s به اندازه ی i میشه نوشت: s = s + i  \n",
    "> مثلا اگه s مقدارش ۵ باشه و i مقدارش ۳ باشه، بعد از نوشتن خط بالا مقدار s برابر ۸ میشه.\n",
    "\n",
    "</div>\n"
   ]
  },
  {
   "cell_type": "code",
   "execution_count": null,
   "metadata": {},
   "outputs": [],
   "source": [
    "# TODO 9"
   ]
  },
  {
   "cell_type": "markdown",
   "metadata": {},
   "source": [
    "<div dir=\"rtl\">\n",
    "\n",
    "کدی که بالا نوشتید کد چه برنامه ای هست؟\n",
    "\n",
    "</div>\n"
   ]
  },
  {
   "cell_type": "markdown",
   "metadata": {},
   "source": [
    "<div dir=\"rtl\">\n",
    "\n",
    "۱۰. عدد n رو از کاربر بگیره  \n",
    "از ۱ تا n رو ضرب کن بریز تو s  \n",
    "بعد که از حلقه خارج شد s رو بنویس\n",
    "\n",
    "> مشکلی که هست اگه متوجه شده باشی بخاطر ضرب هر عدد در صفر مقدار نهایی صفر میشه  \n",
    "> پس باید چیکار کرد که عدد اولیه صفر نباشه ولی اثری هم تو ضرب نداشته باشه؟\n",
    "\n",
    "</div>\n"
   ]
  },
  {
   "cell_type": "code",
   "execution_count": 5,
   "metadata": {},
   "outputs": [],
   "source": [
    "# TODO 10"
   ]
  },
  {
   "cell_type": "markdown",
   "metadata": {},
   "source": [
    "<div dir=\"rtl\">\n",
    "\n",
    "اسم برنامه ای نوشتید چیه؟ 🥳🥳\n",
    "\n",
    "</div>\n"
   ]
  }
 ],
 "metadata": {
  "kernelspec": {
   "display_name": "usr",
   "language": "python",
   "name": "python3"
  },
  "language_info": {
   "codemirror_mode": {
    "name": "ipython",
    "version": 3
   },
   "file_extension": ".py",
   "mimetype": "text/x-python",
   "name": "python",
   "nbconvert_exporter": "python",
   "pygments_lexer": "ipython3",
   "version": "3.12.4"
  }
 },
 "nbformat": 4,
 "nbformat_minor": 2
}
