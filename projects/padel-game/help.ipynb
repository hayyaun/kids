{
 "cells": [
  {
   "cell_type": "markdown",
   "metadata": {},
   "source": [
    "# Creating Padel Game\n",
    "\n",
    "We will learn topics that would help us create a Padel game.  \n",
    "Each function is assigned to a student to complete.  \n",
    "For this game `turtle` module would be used.\n"
   ]
  },
  {
   "cell_type": "markdown",
   "metadata": {},
   "source": [
    "## Credits\n",
    "\n",
    "| Work                      | Done by  |\n",
    "| ------------------------- | -------- |\n",
    "| 1. Create Scene           | `Noyan`  |\n",
    "| 2. Add Keyboard Bindings  | `Barbod` |\n",
    "| 3. Create Scoreboard      | `Nikan`  |\n",
    "| 4. Detect ball collisions | `Mehdi`  |\n",
    "| 5. Wrapping up            | `Mi`     |\n"
   ]
  },
  {
   "cell_type": "markdown",
   "metadata": {},
   "source": [
    "### 1. Create Screen"
   ]
  },
  {
   "cell_type": "markdown",
   "metadata": {},
   "source": [
    "### 2. Create Shapes (Paddle, Ball)\n"
   ]
  },
  {
   "cell_type": "markdown",
   "metadata": {},
   "source": [
    "### 3. Listening to Keyboard\n",
    "\n",
    "Create a function which reads keyboard shortcuts."
   ]
  },
  {
   "cell_type": "markdown",
   "metadata": {},
   "source": [
    "### 4. Moving Shapes\n"
   ]
  },
  {
   "cell_type": "markdown",
   "metadata": {},
   "source": [
    "### 5. Show Scores of each Player\n"
   ]
  },
  {
   "cell_type": "markdown",
   "metadata": {},
   "source": [
    "### 6. Creating Game Loop\n"
   ]
  },
  {
   "cell_type": "markdown",
   "metadata": {},
   "source": [
    "### 7. Moving Ball inside Borders\n"
   ]
  },
  {
   "cell_type": "markdown",
   "metadata": {},
   "source": [
    "### 8. Checking Paddle-Ball Collison\n"
   ]
  },
  {
   "cell_type": "markdown",
   "metadata": {},
   "source": [
    "## Flowchart\n",
    "\n",
    "```mermaid\n",
    "flowchart TD\n",
    "    n1[\"Untitled Node\"] --> n2[\"create game screen\"]\n",
    "    n2 --> n4[\"create left and right paddles\"]\n",
    "    n4 --> n3[\"create ball<br>\"]\n",
    "    n3 --> n5[\"create scoreboard\"]\n",
    "    n5 --> n6[\"add init scores\"]\n",
    "    n6 --> n7[\"show scores\"]\n",
    "    n7 --> n8[\"add keyboard bindings\"]\n",
    "    n8 --> n9[\"True\"]\n",
    "    n9 -- True --> n10[\"update screen\"]\n",
    "    n10 --> n11[\"delay 0.01s\"]\n",
    "    n11 --> n12[\"update ball coordinate\"]\n",
    "    n12 --> n13[\"check if ball hit borders\"]\n",
    "    n13 -- hit right border --> n17[\"left player scored!\"]\n",
    "    n13 -- hit top or bottom border --> n15[\"bounce back vertically\"]\n",
    "    n13 -- hit left border --> n16[\"right player scored!\"]\n",
    "    n16 --> n19[\"move ball to center\"]\n",
    "    n17 --> n19\n",
    "    n14[\"check if ball hit paddle\"] -- hit left/right paddle --> n18[\"bounce back horizontally\"]\n",
    "    n19 --> n20[\"update scores\"]\n",
    "    n15 --> n14\n",
    "    n20 --> n21[\"update score board\"]\n",
    "    n21 --> n14\n",
    "    n18 --> n9\n",
    "    n14 -- False --> n9\n",
    "    n13 -- False --> n14\n",
    "\n",
    "    n1@{ shape: start}\n",
    "    n2@{ shape: proc}\n",
    "    n4@{ shape: proc}\n",
    "    n3@{ shape: proc}\n",
    "    n5@{ shape: proc}\n",
    "    n6@{ shape: proc}\n",
    "    n7@{ shape: proc}\n",
    "    n8@{ shape: proc}\n",
    "    n9@{ shape: decision}\n",
    "    n13@{ shape: decision}\n",
    "    n14@{ shape: decision}\n",
    "```\n"
   ]
  }
 ],
 "metadata": {
  "language_info": {
   "name": "python"
  }
 },
 "nbformat": 4,
 "nbformat_minor": 2
}
