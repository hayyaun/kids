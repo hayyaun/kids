{
 "cells": [
  {
   "cell_type": "markdown",
   "metadata": {},
   "source": [
    "# Creating Padel Game\n",
    "\n",
    "We will learn topics that would help us create a Padel game.  \n",
    "Each function is assigned to a student to complete.  \n",
    "For this game `turtle` module would be used.\n"
   ]
  },
  {
   "cell_type": "markdown",
   "metadata": {},
   "source": [
    "## Credits\n",
    "\n",
    "| Work                      | Done by  |\n",
    "| ------------------------- | -------- |\n",
    "| 1. Create Scene           | `Noyan`  |\n",
    "| 2. Add Keyboard Bindings  | `Barbod` |\n",
    "| 3. Create Scoreboard      | `Nikan`  |\n",
    "| 4. Detect ball collisions | `Mehdi`  |\n",
    "| 5. Wrapping up            | `Mi`     |\n"
   ]
  },
  {
   "cell_type": "markdown",
   "metadata": {},
   "source": [
    "### 1. Create Screen"
   ]
  },
  {
   "cell_type": "markdown",
   "metadata": {},
   "source": [
    "### 2. Create Shapes (Paddle, Ball)\n"
   ]
  },
  {
   "cell_type": "markdown",
   "metadata": {},
   "source": [
    "### 3. Listening to Keyboard\n",
    "\n",
    "Create a function which reads keyboard shortcuts."
   ]
  },
  {
   "cell_type": "markdown",
   "metadata": {},
   "source": [
    "### 4. Moving Shapes\n"
   ]
  },
  {
   "cell_type": "markdown",
   "metadata": {},
   "source": [
    "### 5. Show Scores of each Player\n"
   ]
  },
  {
   "cell_type": "markdown",
   "metadata": {},
   "source": [
    "### 6. Creating Game Loop\n"
   ]
  },
  {
   "cell_type": "markdown",
   "metadata": {},
   "source": [
    "### 7. Moving Ball inside Borders\n"
   ]
  },
  {
   "cell_type": "markdown",
   "metadata": {},
   "source": [
    "### 8. Checking Paddle-Ball Collison\n"
   ]
  }
 ],
 "metadata": {
  "language_info": {
   "name": "python"
  }
 },
 "nbformat": 4,
 "nbformat_minor": 2
}
