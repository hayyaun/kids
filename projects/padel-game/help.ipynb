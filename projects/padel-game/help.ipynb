{
 "cells": [
  {
   "cell_type": "markdown",
   "metadata": {},
   "source": [
    "# Creating Padel Game\n",
    "\n",
    "We will learn topics that would help us create a Padel game.  \n",
    "Each function is assigned to a student to complete.  \n",
    "For this game `turtle` module would be used.\n"
   ]
  },
  {
   "cell_type": "markdown",
   "metadata": {},
   "source": [
    "### Credits\n",
    "\n",
    "| Work                      | Done by  |\n",
    "| ------------------------- | -------- |\n",
    "| 1. Create Scene           | `Noyan`  |\n",
    "| 2. Add Keyboard Bindings  | `Barbod` |\n",
    "| 3. Create Scoreboard      | `Nikan`  |\n",
    "| 4. Detect ball collisions | `Mehdi`  |\n",
    "| 5. Wrapping up            | `Mi`     |\n"
   ]
  },
  {
   "cell_type": "markdown",
   "metadata": {},
   "source": [
    "### 1. Create Screen\n",
    "\n",
    "Before we start creating scene and objects, we need an screen to display all of them on it.\n"
   ]
  },
  {
   "cell_type": "markdown",
   "metadata": {},
   "source": [
    "### 2. Create Shapes\n",
    "\n",
    "Create shape of Rockets, we can use rectangles for that.  \n",
    "Create ball shape by using a circle.\n"
   ]
  },
  {
   "cell_type": "markdown",
   "metadata": {},
   "source": [
    "### 3. Moving Shapes with Keyboard\n",
    "\n",
    "Create a function which reads keyboard shortcuts.  \n",
    "Then move each rocket when they are pressed. For example:\n",
    "\n",
    "> When `w` is pressed, move left rocket up.  \n",
    "> When `s` is pressed, move left rocket down.  \n",
    "> When `up` is pressed, move right rocket up.  \n",
    "> When `down` is pressed, move right rocket down.\n"
   ]
  },
  {
   "cell_type": "markdown",
   "metadata": {},
   "source": [
    "### 4. Show Scores of each Player\n",
    "\n",
    "A function that shows Scoreboard and writes each player's score.  \n",
    "When a player scores, the `show_scores(...)` function would be called.  \n",
    "And the scoreboard would be updated!\n"
   ]
  },
  {
   "cell_type": "markdown",
   "metadata": {},
   "source": [
    "### 5. Creating Game Loop\n",
    "\n",
    "Almost all games run in a loop cycle. Our game either!  \n",
    "We will create a game loop that will update the ball location.  \n",
    "It will also check if ball hits borders or have collisions with rockets!\n"
   ]
  },
  {
   "cell_type": "markdown",
   "metadata": {},
   "source": [
    "### 5.1. Moving Ball\n",
    "\n",
    "Moving a ball is so simple.  \n",
    "First, we get it's current position.  \n",
    "Second, add the delta (the movement direction) to it.  \n",
    "Now will have a new position for the ball to go to!  \n",
    "With `ball.goto(...)` function, we'll move ball to the new location.\n"
   ]
  },
  {
   "cell_type": "markdown",
   "metadata": {},
   "source": [
    "### 5.2. Checking Ball hit Borders\n",
    "\n",
    "If ball hits top/bottom borders, it will bounce back!  \n",
    "But if it hits left/right borders, it would be a score!\n"
   ]
  },
  {
   "cell_type": "markdown",
   "metadata": {},
   "source": [
    "### 5.3. Checking Ball Collisons\n",
    "\n",
    "If ball hits rockets, like hitting top/bottom borders, it will bounce back!\n"
   ]
  }
 ],
 "metadata": {
  "language_info": {
   "name": "python"
  }
 },
 "nbformat": 4,
 "nbformat_minor": 2
}
