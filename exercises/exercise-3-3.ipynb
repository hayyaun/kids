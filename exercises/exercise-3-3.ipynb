{
 "cells": [
  {
   "cell_type": "markdown",
   "metadata": {},
   "source": [
    "<div dir=\"rtl\">\n",
    "\n",
    "## تمرین سری فیبوناچی\n",
    "\n",
    "بعد از حل این مینی تمرین ها شما در نهایت تمرین سری فیبوناچی رو حل کردید!\n",
    "\n",
    "لطفا برنامه ای بنویسید که:\n",
    "\n",
    "</div>\n"
   ]
  },
  {
   "cell_type": "markdown",
   "metadata": {},
   "source": [
    "<div dir=\"rtl\">\n",
    "\n",
    "۱. عدد n رو از کاربر بگیره و از یک تا n رو نمایش بده\n",
    "\n",
    "</div>\n"
   ]
  },
  {
   "cell_type": "code",
   "execution_count": null,
   "metadata": {},
   "outputs": [],
   "source": [
    "# TODO 1"
   ]
  },
  {
   "cell_type": "markdown",
   "metadata": {},
   "source": [
    "<div dir=\"rtl\">\n",
    "\n",
    "۲. عدد a رو از کاربر بگیره و بریزه توی متغیر t  \n",
    "حالا a رو برابر با صفر کنه  \n",
    "در نهایت a و t رو نشون بده\n",
    "\n",
    "</div>\n"
   ]
  },
  {
   "cell_type": "code",
   "execution_count": 1,
   "metadata": {},
   "outputs": [],
   "source": [
    "# TODO 2"
   ]
  },
  {
   "cell_type": "markdown",
   "metadata": {},
   "source": [
    "<div dir=\"rtl\">\n",
    "\n",
    "۳. عدد a و b رو از کاربر بگیره  \n",
    "مقدار a و b رو نشون بده  \n",
    "با کمک متغیر t یکاری کنه که:  \n",
    "مقدار a و b با هم عوض شه  \n",
    "حالا دوباره مقدار a و b رو نشون بده\n",
    "\n",
    "</div>\n"
   ]
  },
  {
   "cell_type": "code",
   "execution_count": null,
   "metadata": {},
   "outputs": [],
   "source": [
    "# TODO 3"
   ]
  },
  {
   "cell_type": "markdown",
   "metadata": {},
   "source": [
    "<div dir=\"rtl\">\n",
    "\n",
    "۴. عدد n رو از کاربر بگیره  \n",
    "مقدار a و b رو برابر یک قرار بده (a = b = 1)  \n",
    "داخل حلقه هربار a رو نمایش بده فقط و بعدش:  \n",
    "داخل حلقه هربار یکی به a و b اضافه کنه\n",
    "\n",
    "</div>\n"
   ]
  },
  {
   "cell_type": "code",
   "execution_count": null,
   "metadata": {},
   "outputs": [],
   "source": [
    "# TODO 4"
   ]
  },
  {
   "cell_type": "markdown",
   "metadata": {},
   "source": [
    "<div dir=\"rtl\">\n",
    "\n",
    "۵. عدد n رو از کاربر بگیره  \n",
    "مقدار a و b رو برابر یک قرار بده  \n",
    "داخل حلقه هربار a رو نمایش بده  \n",
    "مقدار b رو بریزه توی a و مقدار a+b رو بریزه توی b (باز با کمک متغیر موقت t)\n",
    "\n",
    "</div>\n"
   ]
  },
  {
   "cell_type": "code",
   "execution_count": null,
   "metadata": {},
   "outputs": [],
   "source": [
    "# 1. Get the number n from user\n",
    "# 2. Show the fibbonacci series for n times\n",
    "\n",
    "# TODO 5"
   ]
  },
  {
   "cell_type": "markdown",
   "metadata": {},
   "source": [
    "<div dir=\"rtl\">\n",
    "\n",
    "تامام!\n",
    "\n",
    "</div>\n"
   ]
  }
 ],
 "metadata": {
  "kernelspec": {
   "display_name": "usr",
   "language": "python",
   "name": "python3"
  },
  "language_info": {
   "codemirror_mode": {
    "name": "ipython",
    "version": 3
   },
   "file_extension": ".py",
   "mimetype": "text/x-python",
   "name": "python",
   "nbconvert_exporter": "python",
   "pygments_lexer": "ipython3",
   "version": "3.12.4"
  }
 },
 "nbformat": 4,
 "nbformat_minor": 2
}
