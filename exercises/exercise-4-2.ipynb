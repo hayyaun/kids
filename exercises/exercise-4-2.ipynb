{
 "cells": [
  {
   "cell_type": "markdown",
   "metadata": {},
   "source": [
    "<div dir=\"rtl\">\n",
    "\n",
    "### 💡 راهنمای تمرین دیکشنری جیبی\n",
    "\n",
    "برای حل این تمرین صرفا کافیه یه دیکشنری درست کنید و یه تعداد از کلمات و ترجمه شون رو ایجاد کنید،  \n",
    "بعد توی یه حلقه بی نهایت از کاربر بپرسید که چه کلمه ای رو میخاد تا براش ترجمه کنیم،  \n",
    "بعد ازینکه اون کلمه رو داد ما ترجمه رو نشون میدیم و حلقه تکرار میشه.  \n",
    "البته اگه کلمه exit رو نوشت ما برنامه رو متوقف می کنیم.\n",
    "\n",
    "> راهنمایی: با کلیدواژه break میشه حلقه رو شکوند و متوقفش کرد.\n",
    "\n",
    "</div>\n"
   ]
  },
  {
   "cell_type": "code",
   "execution_count": null,
   "metadata": {},
   "outputs": [],
   "source": [
    "# Fa-En Dictionary\n",
    "\n",
    "# 1. Create a Fa-En dictionary\n",
    "# 2. In a loop: get a word from user\n",
    "# 2.1. If available: Show translation\n",
    "# 2.2. If not available: Say 404!\n"
   ]
  }
 ],
 "metadata": {
  "kernelspec": {
   "display_name": "usr",
   "language": "python",
   "name": "python3"
  },
  "language_info": {
   "name": "python",
   "version": "3.12.4"
  }
 },
 "nbformat": 4,
 "nbformat_minor": 2
}
