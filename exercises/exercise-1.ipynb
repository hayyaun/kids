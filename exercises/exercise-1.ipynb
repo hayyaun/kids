{
 "cells": [
  {
   "cell_type": "markdown",
   "metadata": {},
   "source": [
    "<div dir=\"rtl\">\n",
    "\n",
    "# تمرین پرینت\n",
    "\n",
    "پرینت دستوری هست که برای نمایش یه متن به کاربر استفاده میشه  \n",
    "با استفاده از دستور چاپ (پرینت) متغیرهای زیر رو به کاربر نمایش بدید\n",
    "\n",
    "مقادیری که توی متغیر های `a, b, c, d` تعریف شده رو با کمک تابع `print` چاپ کنید.\n",
    "\n",
    "> شما میتونید برای تمرین بیشتر مقادیر رو تغییر بدید یا در هم ضرب یا جمع کنید  \n",
    "> حتی میتونید تعداد بیشتری پرینت اضافه کنید تا ببینید چی میشه\n",
    "\n",
    "اگه کار با تابع پرینت رو یادتون رفته میتونید فایل `session-1.ipynb` درس اول رو باز کنید و ببینید!\n",
    "\n",
    "</div>\n"
   ]
  },
  {
   "cell_type": "code",
   "execution_count": null,
   "metadata": {},
   "outputs": [],
   "source": [
    "# Print a, b, c, d\n",
    "\n",
    "a = 2\n",
    "b = 8\n",
    "c = \"Hi\"\n",
    "d = \"Nodet\"\n",
    "\n",
    "# TODO\n"
   ]
  }
 ],
 "metadata": {
  "kernelspec": {
   "display_name": "usr",
   "language": "python",
   "name": "python3"
  },
  "language_info": {
   "name": "python",
   "version": "3.12.4"
  }
 },
 "nbformat": 4,
 "nbformat_minor": 2
}
