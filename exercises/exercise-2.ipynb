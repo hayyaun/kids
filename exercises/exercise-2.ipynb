{
 "cells": [
  {
   "cell_type": "markdown",
   "metadata": {},
   "source": [
    "<div dir=\"rtl\">\n",
    "\n",
    "### تمرین ماشین حساب\n",
    "\n",
    "توی این برنامه از شما خواسته شده که دو عدد a و b رو از کاربر بگیرید  \n",
    "و چهار عمل اصلی یعنی جمع، تفریق، ضرب و تقسیم رو روش انجام بدید  \n",
    "و در نهایت بصورت گوگولی به کاربر نشون بدید\n",
    "\n",
    "> برای گرفتن مقادیر از کابر از تابع `input` و `int` استفاده می کنیم.  \n",
    "> اگه درس دوم رو یادتون رفته میتونید از فایل `session-2.ipynb` مطالب درس دوم رو مرور کنید\n",
    "\n",
    "</div>\n"
   ]
  },
  {
   "cell_type": "code",
   "execution_count": null,
   "metadata": {},
   "outputs": [],
   "source": [
    "# Create a simple calulator\n",
    "# 1. Receive two numbers a and b from the terminal\n",
    "# 2. Show the ( + - * / ) of that two number\n",
    "\n",
    "\n",
    "# Complete this code:\n",
    "\n",
    "a = int(input(\"Enter a: \"))\n",
    "b = int(input(\"Enter b: \"))\n",
    "\n",
    "c = a + b  # +\n",
    "# TODO -\n",
    "# TODO *\n",
    "# TODO /\n",
    "\n",
    "print(\"a + b = \", sum)\n",
    "# TODO\n",
    "# TODO\n",
    "# TODO\n"
   ]
  }
 ],
 "metadata": {
  "kernelspec": {
   "display_name": "usr",
   "language": "python",
   "name": "python3"
  },
  "language_info": {
   "name": "python",
   "version": "3.12.4"
  }
 },
 "nbformat": 4,
 "nbformat_minor": 2
}
