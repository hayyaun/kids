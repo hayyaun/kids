{
 "cells": [
  {
   "cell_type": "markdown",
   "metadata": {},
   "source": [
    "<div dir=\"rtl\">\n",
    "\n",
    "### 💡 راهنمای تمرین لیست سری فیبوناچی\n",
    "\n",
    "برای حل این تمرین صرفا کافیه یه لیست درست کنید.  \n",
    "و با کمک تمرین درس قبل که سری فیبوناچی رو می نوشتید.  \n",
    "این بار به جای پرینت کردنش عددهارو به انتهای لیست اضافه می کنید.  \n",
    "اگه نحوه کار با لیست یادتون رفته می تونید از ویدیوهای آموزشی مرور کنید.\n",
    "\n",
    "(می تونید قسمت TODO رو با تمرین ۳-۳ پر کنید)\n",
    "\n",
    "</div>\n"
   ]
  },
  {
   "cell_type": "code",
   "execution_count": null,
   "metadata": {},
   "outputs": [],
   "source": [
    "# Use List to store a Fibbonacci series\n",
    "\n",
    "n = int(input('Enter a number: '))\n",
    "fib = []\n",
    "\n",
    "# TODO fill the fib list to contain n items\n",
    "\n",
    "print(f'Fibbonacci serie: {fib}')\n"
   ]
  }
 ],
 "metadata": {
  "kernelspec": {
   "display_name": "usr",
   "language": "python",
   "name": "python3"
  },
  "language_info": {
   "name": "python",
   "version": "3.12.4"
  }
 },
 "nbformat": 4,
 "nbformat_minor": 2
}
