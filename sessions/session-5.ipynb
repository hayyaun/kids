{
 "cells": [
  {
   "cell_type": "markdown",
   "metadata": {},
   "source": [
    "# Collections\n"
   ]
  },
  {
   "cell_type": "markdown",
   "metadata": {},
   "source": [
    "## 1. List\n",
    "\n",
    "A Python list is like a box where you can keep many items (numbers, words, etc.) in order, and you can easily add, remove, or find things in it.\n",
    "\n",
    "Methods:\n",
    "\n",
    "- `append`: add an item to the list\n",
    "- `pop`: remove last item from the list\n",
    "- `sort`: sort the list\n",
    "- `remove`: remove a value from the list\n",
    "- `count`: amount of items that have a specific value\n"
   ]
  },
  {
   "cell_type": "code",
   "execution_count": 43,
   "metadata": {},
   "outputs": [
    {
     "name": "stdout",
     "output_type": "stream",
     "text": [
      "kids: \t\t\t ['Amirali', 'Sepehrad', 'Sepantha', 'Abbas']\n",
      "\n",
      "0: Amirali\n",
      "1: Sepantha\n",
      "\n",
      "kids[0:2]: \t\t ['Amirali', 'Sepehrad']\n",
      "kids[3:]: \t\t ['Abbas']\n",
      "kids[:4]: \t\t ['Amirali', 'Sepehrad', 'Sepantha', 'Abbas']\n",
      "\n",
      "kids after append: \t ['Amirali', 'Sepehrad', 'Sepantha', 'Abbas', 'Barsam', 'Nikan']\n",
      "\n",
      "size of kids: 6\n",
      "\n",
      "size after pop: 5\n",
      "\n",
      "kids sorted: \t\t ['Abbas', 'Amirali', 'Barsam', 'Sepantha', 'Sepehrad']\n",
      "\n",
      "size: 0 \t\t []\n"
     ]
    }
   ],
   "source": [
    "# Create a list\n",
    "kids = ['Amirali', 'Sepehrad', 'Sepantha', 'Abbas']\n",
    "\n",
    "print('kids: \\t\\t\\t', kids)\n",
    "print()\n",
    "print('0:', kids[0])\n",
    "print('1:', kids[2])\n",
    "print()\n",
    "print('kids[0:2]: \\t\\t', kids[0:2])  # between 0-2\n",
    "print('kids[3:]: \\t\\t', kids[3:])  # after 3\n",
    "print('kids[:4]: \\t\\t', kids[:4])  # before 4\n",
    "print()\n",
    "\n",
    "# Add new items\n",
    "kids.append('Barsam')\n",
    "kids.append('Nikan')\n",
    "print('kids after append: \\t', kids)\n",
    "print()\n",
    "\n",
    "# Size of list\n",
    "n = len(kids)\n",
    "print('size of kids:', n)\n",
    "print()\n",
    "\n",
    "# Remove last item\n",
    "kids.pop()\n",
    "n = len(kids)\n",
    "print('size after pop:', n)\n",
    "print()\n",
    "\n",
    "# Sort (مرتب سازی)\n",
    "kids.sort()\n",
    "print('kids sorted: \\t\\t', kids)\n",
    "print()\n",
    "\n",
    "# Clear the list\n",
    "kids.clear()\n",
    "n = len(kids)\n",
    "print('size:', n, '\\t\\t', kids)"
   ]
  },
  {
   "cell_type": "markdown",
   "metadata": {},
   "source": [
    "> **Activity:** create a list of all Even numbers in range(65,85)\n"
   ]
  },
  {
   "cell_type": "code",
   "execution_count": null,
   "metadata": {},
   "outputs": [],
   "source": [
    "# HELP: use `append` method"
   ]
  },
  {
   "cell_type": "markdown",
   "metadata": {},
   "source": [
    "## 2. Tuple\n"
   ]
  },
  {
   "cell_type": "markdown",
   "metadata": {},
   "source": [
    "#### Tuple operations\n",
    "\n",
    "#### Swap\n"
   ]
  },
  {
   "cell_type": "code",
   "execution_count": 61,
   "metadata": {},
   "outputs": [
    {
     "name": "stdout",
     "output_type": "stream",
     "text": [
      "fruits: \t ('apple', 'banana', 'cherry')\n",
      "size: \t\t 3\n",
      "[1:3]: \t\t ('banana', 'cherry')\n",
      "fruits: \t ('apple', 'banana', 'cherry', 'kiwi')\n",
      "unpack: \t apple banana cherry kiwi\n",
      "swap: \t\t kiwi apple banana kiwi\n",
      "fruits list: \t ['apple', 'banana', 'cherry', 'kiwi']\n"
     ]
    }
   ],
   "source": [
    "fruits = (\"apple\", \"banana\", \"cherry\")\n",
    "print('fruits: \\t', fruits)\n",
    "print('size: \\t\\t', len(fruits))\n",
    "print('[1:3]: \\t\\t', fruits[1:3])\n",
    "\n",
    "fruits += ('kiwi',)\n",
    "print('fruits: \\t', fruits)\n",
    "\n",
    "(a, b, c, d) = fruits\n",
    "print('unpack: \\t', a, b, c, d)\n",
    "\n",
    "(a, b, c) = (d, a, b)\n",
    "print('swap: \\t\\t', a, b, c, d)\n",
    "\n",
    "fruits_list = list(fruits)\n",
    "print('fruits list: \\t', fruits_list)"
   ]
  },
  {
   "cell_type": "markdown",
   "metadata": {},
   "source": [
    "## 3. Dictionary\n"
   ]
  },
  {
   "cell_type": "code",
   "execution_count": 69,
   "metadata": {},
   "outputs": [
    {
     "name": "stdout",
     "output_type": "stream",
     "text": [
      "keys: \t\t dict_keys(['age', 'name', 'height'])\n",
      "name: \t\t Ali Noruzi\n",
      "age: \t\t 25\n",
      "\n",
      "height: \t 185\n"
     ]
    }
   ],
   "source": [
    "person_1 = {\n",
    "    \"age\": 25,\n",
    "    \"name\": \"Ali Noruzi\",\n",
    "    \"height\": 175\n",
    "}\n",
    "\n",
    "print('keys: \\t\\t', person_1.keys())\n",
    "print('name: \\t\\t', person_1['name']) # get name\n",
    "print('age: \\t\\t', person_1.get('age')) # get age\n",
    "print()\n",
    "\n",
    "person_1['height'] = 185 # update height\n",
    "print('height: \\t', person_1.get('height'))"
   ]
  },
  {
   "cell_type": "markdown",
   "metadata": {},
   "source": [
    "> Exercise: 5. Fa-En Dictionary\n"
   ]
  }
 ],
 "metadata": {
  "kernelspec": {
   "display_name": "usr",
   "language": "python",
   "name": "python3"
  },
  "language_info": {
   "codemirror_mode": {
    "name": "ipython",
    "version": 3
   },
   "file_extension": ".py",
   "mimetype": "text/x-python",
   "name": "python",
   "nbconvert_exporter": "python",
   "pygments_lexer": "ipython3",
   "version": "3.12.6"
  }
 },
 "nbformat": 4,
 "nbformat_minor": 2
}
