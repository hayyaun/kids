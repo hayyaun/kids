{
 "cells": [
  {
   "cell_type": "markdown",
   "metadata": {},
   "source": [
    "### Print to Terminal\n",
    "\n",
    "Using `print` function we can write text to Terminal.\n",
    "\n",
    "```mermaid\n",
    "flowchart TD\n",
    "    n1[\"Untitled Node\"] --> D@{ label: \"print 'Hello world!'<br>\" }\n",
    "    D --> n2[\"Untitled Node\"]\n",
    "\n",
    "    n1@{ shape: start}\n",
    "    D@{ shape: in-out}\n",
    "    n2@{ shape: stop}\n",
    "```\n"
   ]
  },
  {
   "cell_type": "code",
   "execution_count": 2,
   "metadata": {},
   "outputs": [
    {
     "name": "stdout",
     "output_type": "stream",
     "text": [
      "Hello world!\n"
     ]
    }
   ],
   "source": [
    "print(\"Hello world!\")"
   ]
  },
  {
   "cell_type": "markdown",
   "metadata": {},
   "source": [
    "> **Activity**: Print your first and last name is each line.\n"
   ]
  },
  {
   "cell_type": "markdown",
   "metadata": {},
   "source": [
    "# 1. Variables\n",
    "\n",
    "Like what we do in mathematics, we can have variables in python too:\n",
    "\n",
    "<br/>\n",
    "\n",
    "<img src=\"../.assets/review-var.png\" width=\"640px\" />\n"
   ]
  },
  {
   "cell_type": "markdown",
   "metadata": {},
   "source": [
    "```mermaid\n",
    "flowchart TD\n",
    "    B[\"a = 2\"] --> C[\"b = 4\"]\n",
    "    C --> D[\"c = a + b\"]\n",
    "    D --> E[\"print c\"]\n",
    "    n1[\"Untitled Node\"] --> B\n",
    "    E --> n2[\"Untitled Node\"]\n",
    "\n",
    "    E@{ shape: in-out}\n",
    "    n1@{ shape: start}\n",
    "    n2@{ shape: stop}\n",
    "```"
   ]
  },
  {
   "cell_type": "code",
   "execution_count": 1,
   "metadata": {},
   "outputs": [
    {
     "name": "stdout",
     "output_type": "stream",
     "text": [
      "6\n"
     ]
    }
   ],
   "source": [
    "a = 2\n",
    "b = 4\n",
    "c = a + b\n",
    "print(c)"
   ]
  },
  {
   "cell_type": "markdown",
   "metadata": {},
   "source": [
    "We can also store text into variables:\n",
    "\n",
    "```mermaid\n",
    "flowchart TD\n",
    "    B@{ label: \"s1 = 'Hello'\" } --> C@{ label: \"s2 = 'World!'\" }\n",
    "    C --> D[\"print s1, s2\"]\n",
    "    n1[\"Untitled Node\"] --> B\n",
    "    D --> n2[\"Untitled Node\"]\n",
    "\n",
    "    B@{ shape: square}\n",
    "    C@{ shape: square}\n",
    "    n1@{ shape: start}\n",
    "    n2@{ shape: stop}\n",
    "    D@{ shape: in-out }\n",
    "```"
   ]
  },
  {
   "cell_type": "code",
   "execution_count": 2,
   "metadata": {},
   "outputs": [
    {
     "name": "stdout",
     "output_type": "stream",
     "text": [
      "Hello World!\n"
     ]
    }
   ],
   "source": [
    "s1 = \"Hello\"\n",
    "s2 = \"World!\"\n",
    "print(s1, s2)"
   ]
  },
  {
   "cell_type": "markdown",
   "metadata": {},
   "source": [
    "> You can learn more about [Variables](https://www.w3schools.com/python/python_variables.asp).\n"
   ]
  }
 ],
 "metadata": {
  "kernelspec": {
   "display_name": "Python 3",
   "language": "python",
   "name": "python3"
  },
  "language_info": {
   "codemirror_mode": {
    "name": "ipython",
    "version": 3
   },
   "file_extension": ".py",
   "mimetype": "text/x-python",
   "name": "python",
   "nbconvert_exporter": "python",
   "pygments_lexer": "ipython3",
   "version": "3.12.6"
  }
 },
 "nbformat": 4,
 "nbformat_minor": 2
}
