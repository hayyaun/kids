{
 "cells": [
  {
   "cell_type": "markdown",
   "metadata": {},
   "source": [
    "# Comments\n",
    "\n",
    "Comments can be used to explain Python code.  \n",
    "Using comments we can leave notes around or code.\n"
   ]
  },
  {
   "cell_type": "code",
   "execution_count": null,
   "metadata": {},
   "outputs": [],
   "source": [
    "# I am a comment\n",
    "# Try to run me to see if you get anything"
   ]
  },
  {
   "cell_type": "code",
   "execution_count": 13,
   "metadata": {},
   "outputs": [
    {
     "name": "stdout",
     "output_type": "stream",
     "text": [
      "Hello\n"
     ]
    }
   ],
   "source": [
    "print(\"Hello\")\n",
    "# print(\"World!\")"
   ]
  },
  {
   "cell_type": "markdown",
   "metadata": {},
   "source": [
    "# Data types\n",
    "\n",
    "- Integer (عدد صحیح)\n",
    "- Float (عدد اعشاری)\n",
    "- Strings (متن)\n",
    "- Booleans (درست یا غلط)\n"
   ]
  },
  {
   "cell_type": "code",
   "execution_count": 11,
   "metadata": {},
   "outputs": [
    {
     "name": "stdout",
     "output_type": "stream",
     "text": [
      "8 1.25 Hello True\n"
     ]
    }
   ],
   "source": [
    "a = 8       # int\n",
    "b = 1.25    # float\n",
    "c = \"Hello\" # string\n",
    "d = True    # boolean\n",
    "\n",
    "print(a, b, c, d) "
   ]
  },
  {
   "cell_type": "markdown",
   "metadata": {},
   "source": [
    "### Casting types\n",
    "\n",
    "- `int()` - converts anything to integer\n",
    "- `float()` - converts anything to float\n",
    "- `str()` - converst anything to text string\n"
   ]
  },
  {
   "cell_type": "code",
   "execution_count": 18,
   "metadata": {},
   "outputs": [
    {
     "name": "stdout",
     "output_type": "stream",
     "text": [
      "28\n",
      "17.25\n",
      "52.5\n"
     ]
    }
   ],
   "source": [
    "a = int(8.5)          # float to int\n",
    "b = int(\"20\")         # str to int\n",
    "print(a + b)\n",
    "\n",
    "c = float(5)          # int to float\n",
    "d = float(\"12.25\")    # str to float\n",
    "print(c + d)\n",
    "\n",
    "e = str(5)            # int to str\n",
    "f = str(2.5)          # float to str\n",
    "print(e + f)"
   ]
  },
  {
   "cell_type": "markdown",
   "metadata": {},
   "source": [
    "# Operators\n"
   ]
  },
  {
   "cell_type": "markdown",
   "metadata": {},
   "source": [
    "### 1. Arithmatic Operators\n",
    "\n",
    "| Op   | Name                 | Example  |\n",
    "| ---- | -------------------- | -------- |\n",
    "| `+`  | Addition             | a + b    |\n",
    "| `-`  | Subtration           | a - b    |\n",
    "| `*`  | Multiplication (ضرب) | a \\* b   |\n",
    "| `/`  | Division (تقسیم)     | a / b    |\n",
    "| `%`  | Modulus (باقی مانده) | a % b    |\n",
    "| `**` | Power (توان)         | a \\*\\* b |\n"
   ]
  },
  {
   "cell_type": "code",
   "execution_count": 5,
   "metadata": {},
   "outputs": [
    {
     "name": "stdout",
     "output_type": "stream",
     "text": [
      "8\n"
     ]
    }
   ],
   "source": [
    "a = 2\n",
    "b = 3\n",
    "c = a ** b\n",
    "print(c)"
   ]
  },
  {
   "cell_type": "markdown",
   "metadata": {},
   "source": [
    "> **Activity**: Calculate circle, cylinder, and sphere areas and volumes.\n"
   ]
  },
  {
   "cell_type": "markdown",
   "metadata": {},
   "source": [
    "### 2. Assignment Operators (home)\n",
    "\n",
    "| Op   | Example | Same As    |\n",
    "| ---- | ------- | ---------- |\n",
    "| `=`  | x = 5   | x = 5      |\n",
    "| `+=` | x += 3  | x = x + 3  |\n",
    "| `-=` | x -= 4  | x = x - 4  |\n",
    "| `*=` | x \\*= 2 | x = x \\* 2 |\n",
    "| `/=` | x /= 3  | x = x / 3  |\n"
   ]
  },
  {
   "cell_type": "code",
   "execution_count": 6,
   "metadata": {},
   "outputs": [
    {
     "name": "stdout",
     "output_type": "stream",
     "text": [
      "16\n"
     ]
    }
   ],
   "source": [
    "x = 2\n",
    "x *= 8\n",
    "print(x)"
   ]
  },
  {
   "cell_type": "markdown",
   "metadata": {},
   "source": [
    "### 3. Comparison Operators\n",
    "\n",
    "| Op   | Name                     | Example |\n",
    "| ---- | ------------------------ | ------- |\n",
    "| `==` | Equal                    | a == b  |\n",
    "| `!=` | Not equal                | a != b  |\n",
    "| `>`  | Greater than             | a > b   |\n",
    "| `<`  | Less than                | a < b   |\n",
    "| `>=` | Greeter than or equal to | a >= b  |\n",
    "| `<=` | Less than or equal to    | a <= b  |\n"
   ]
  },
  {
   "cell_type": "code",
   "execution_count": 7,
   "metadata": {},
   "outputs": [
    {
     "name": "stdout",
     "output_type": "stream",
     "text": [
      "False\n"
     ]
    }
   ],
   "source": [
    "a = 3\n",
    "b = 8\n",
    "c = a > b\n",
    "print(c)"
   ]
  },
  {
   "cell_type": "markdown",
   "metadata": {},
   "source": [
    "### 4. Logical Operators\n",
    "\n",
    "| Op    | Description                                   | Example          | فارسی |\n",
    "| ----- | --------------------------------------------- | ---------------- | ----- |\n",
    "| `and` | Returns True if both statements are True      | x > 3 and x < 5  | و     |\n",
    "| `or`  | Returns True if one of the statements is True | x == 1 or x == 3 | یا    |\n",
    "| `not` | Reverse the result                            | not(x > 3)       | برعکس |\n"
   ]
  },
  {
   "cell_type": "code",
   "execution_count": 9,
   "metadata": {},
   "outputs": [
    {
     "name": "stdout",
     "output_type": "stream",
     "text": [
      "True False False\n"
     ]
    }
   ],
   "source": [
    "x = 4\n",
    "a = x > 3 and x < 5\n",
    "b = x == 1 or x == 3\n",
    "c = not(x > 3)\n",
    "\n",
    "print(a, b, c)"
   ]
  },
  {
   "cell_type": "markdown",
   "metadata": {},
   "source": [
    "> For more operators you can always check [this website](https://www.w3schools.com/python/python_operators.asp)\n"
   ]
  },
  {
   "cell_type": "markdown",
   "metadata": {},
   "source": [
    "### Read from Terminal\n",
    "\n",
    "Using `input` function we can read string from terminal. And store them in a variable to use it later.\n"
   ]
  },
  {
   "cell_type": "code",
   "execution_count": null,
   "metadata": {},
   "outputs": [
    {
     "name": "stdout",
     "output_type": "stream",
     "text": [
      "Hello Hayyaun\n"
     ]
    }
   ],
   "source": [
    "name = input('Enter your name: ')\n",
    "print('Hello', name)"
   ]
  },
  {
   "cell_type": "code",
   "execution_count": 21,
   "metadata": {},
   "outputs": [
    {
     "name": "stdout",
     "output_type": "stream",
     "text": [
      "Hayyaun is 25 years old!\n"
     ]
    }
   ],
   "source": [
    "name = input('What is your name? ')\n",
    "age = input('How old are you? ')\n",
    "print(name, 'is', age, 'years old!')"
   ]
  },
  {
   "cell_type": "markdown",
   "metadata": {},
   "source": [
    "> **Exercise**: 2. Calculator\n"
   ]
  }
 ],
 "metadata": {
  "kernelspec": {
   "display_name": "usr",
   "language": "python",
   "name": "python3"
  },
  "language_info": {
   "codemirror_mode": {
    "name": "ipython",
    "version": 3
   },
   "file_extension": ".py",
   "mimetype": "text/x-python",
   "name": "python",
   "nbconvert_exporter": "python",
   "pygments_lexer": "ipython3",
   "version": "3.12.4"
  }
 },
 "nbformat": 4,
 "nbformat_minor": 2
}
