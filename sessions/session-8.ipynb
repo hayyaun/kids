{
 "cells": [
  {
   "cell_type": "markdown",
   "metadata": {},
   "source": [
    "# Creating modules\n",
    "\n",
    "Learning how to create your own modules.\n"
   ]
  },
  {
   "cell_type": "markdown",
   "metadata": {},
   "source": [
    "> You can learn more [Modules](https://www.w3schools.com/python/python_modules.asp) from here.\n"
   ]
  },
  {
   "cell_type": "markdown",
   "metadata": {},
   "source": [
    "## Creating a Telegram Bot 🤖\n",
    "\n",
    "**👾 Class Project 👾**\n",
    "\n",
    "We will implement the **Number Guessing Game** 🎲 into a telegram bot.  \n",
    "Students can play with the game in the class after it's done.\n",
    "\n",
    "Things we review on this project:\n",
    "\n",
    "- Comments\n",
    "- Operators\n",
    "- Type Casting\n",
    "- If and Loops\n",
    "- Creating functions\n",
    "- Importing `random` module\n",
    "- Installing and importing `python-telegram-bot` module\n",
    "- Creating modules\n"
   ]
  },
  {
   "cell_type": "markdown",
   "metadata": {},
   "source": [
    "#### 1. Create a Bot in Telegram\n",
    "\n",
    "- Open [Bot Father](https://t.me/BotFather) in telegram\n",
    "- From `Menu` tap `create a new bot`.\n",
    "- Give it a name. example: `My First Telegram Bot`\n",
    "- Give it a username. example: `something_bot`\n",
    "- Tap on the `access token` to copy it.\n",
    "- Optional: You can update `/commands` of your bot.\n",
    "\n",
    "- <img src=\"../.assets/create_bot.jpg\" alt=\"Create Bot\" style=\"height:500px;\"/>\n"
   ]
  },
  {
   "cell_type": "markdown",
   "metadata": {},
   "source": [
    "#### 2. Create a folder and module\n",
    "\n",
    "- Create a file with name `__main__.py`.\n",
    "- Create a file for handlers with name `handle.py`.\n",
    "- Install `python-telegram-bot` module.\n"
   ]
  },
  {
   "cell_type": "markdown",
   "metadata": {},
   "source": [
    "#### 3. Write **main** function\n",
    "\n",
    "- Use builder function of `telegram-bot` module to start a bot app.\n",
    "- Listen for `/start` and `/help` commands, and pass them callbacks.\n",
    "- Listen for any `message` to get the guess number.\n"
   ]
  },
  {
   "cell_type": "markdown",
   "metadata": {},
   "source": [
    "#### 4. Write **command** handler functions.\n",
    "\n",
    "- We need 2 callback functions to handle commands: `on_start()` and `on_help()`\n",
    "- on start, create a random number between 0 - 100 as `answer`.\n"
   ]
  },
  {
   "cell_type": "markdown",
   "metadata": {},
   "source": [
    "#### 5. Write **message** handler function.\n",
    "\n",
    "- Write `on_message()` callback function to handle messages.\n",
    "- It gets a number from user as a `guess`.\n",
    "- Compare it with the `answer`.\n",
    "- Send response message to the user.\n"
   ]
  }
 ],
 "metadata": {
  "language_info": {
   "name": "python"
  }
 },
 "nbformat": 4,
 "nbformat_minor": 2
}
