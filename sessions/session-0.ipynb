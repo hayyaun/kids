{
 "cells": [
  {
   "cell_type": "markdown",
   "metadata": {},
   "source": [
    "## Prerequisities:\n",
    "\n",
    "Please download and install apps below:\n",
    "\n",
    "- [Download Python](https://www.python.org/downloads/release/python-3130/)\n",
    "- [Download Git](https://git-scm.com/downloads)\n",
    "- [Download VSCode Extensions](vscode:extension/hayyaun.jupack)\n"
   ]
  },
  {
   "cell_type": "markdown",
   "metadata": {},
   "source": [
    "# VSCode shortcuts\n",
    "\n",
    "| Shortcut               | What it does?             |\n",
    "| ---------------------- | ------------------------- |\n",
    "| `Ctrl + S`             | Save file                 |\n",
    "| `Ctrl + Shift + I`     | Makes your code beautiful |\n",
    "| `Ctrl + Space`         | List of available methods |\n",
    "| `Ctrl + Arrow`         | Move between words        |\n",
    "| `Shift + Arrow`        | Select characters         |\n",
    "| `Ctrl + Shift + Arrow` | Select words              |\n",
    "| `Ctrl + P`             | Search for a file to open |\n"
   ]
  }
 ],
 "metadata": {
  "language_info": {
   "name": "python"
  }
 },
 "nbformat": 4,
 "nbformat_minor": 2
}
