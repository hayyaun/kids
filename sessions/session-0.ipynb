{
 "cells": [
  {
   "cell_type": "markdown",
   "metadata": {},
   "source": [
    "## Prerequisities:\n",
    "\n",
    "Please download and install apps below:\n",
    "\n",
    "- [Download Python](https://www.python.org/downloads/release/python-3130/)\n",
    "- [Download Git](https://git-scm.com/downloads)\n",
    "- [Download VSCode Extensions](vscode:extension/hayyaun.jupack)\n"
   ]
  },
  {
   "cell_type": "markdown",
   "metadata": {},
   "source": [
    "# VSCode shortcuts\n",
    "\n",
    "| Shortcut                   | What it does?             |\n",
    "| -------------------------- | ------------------------- |\n",
    "| `Ctrl` + `S`               | Save file                 |\n",
    "| `Ctrl` + `Shift` + `I`     | Makes your code beautiful |\n",
    "| `Ctrl` + `Space`           | List of available methods |\n",
    "| `Ctrl` + `Arrow`           | Move between words        |\n",
    "| `Shift` + `Arrow`          | Select characters         |\n",
    "| `Ctrl` + `Shift` + `Arrow` | Select words              |\n",
    "| `Ctrl` + `P`               | Search for a file to open |\n"
   ]
  },
  {
   "cell_type": "markdown",
   "metadata": {},
   "source": [
    "## Flowchart Basics\n",
    "\n",
    "Here are symbols meanings referrence:\n",
    "\n",
    "```mermaid\n",
    "flowchart TD\n",
    " subgraph s1[\"Decision&nbsp;<span style=color:>&nbsp;</span><span style=color:>(If, elif, while)</span>\"]\n",
    "        n6[\"if a &gt; i:\"]\n",
    "  end\n",
    " subgraph s2[\"Action / Process\"]\n",
    "        n3[\"i = 50\"]\n",
    "  end\n",
    " subgraph s3[\"Input (Read from Terminal)\"]\n",
    "        n5@{ label: \"a = input('Give me a number')\" }\n",
    "  end\n",
    " subgraph s4[\"Print (Write to Terminal)\"]\n",
    "        n7@{ label: \"print('Hello')\" }\n",
    "        n8@{ label: \"print('bye')\" }\n",
    "  end\n",
    "    n6 -- Yes (True) --> n7\n",
    "    n6 -- No (False) --> n8\n",
    "    n8 --> n9[\"End\"]\n",
    "    s3 --> s2\n",
    "    s2 --> s1\n",
    "    n1[\"Start\"] --> s3\n",
    "    n7 --> n9\n",
    "\n",
    "    n6@{ shape: decision}\n",
    "    n3@{ shape: proc}\n",
    "    n5@{ shape: out-in}\n",
    "    n7@{ shape: in-out}\n",
    "    n8@{ shape: in-out}\n",
    "    n9@{ shape: terminal}\n",
    "    n1@{ shape: terminal}\n",
    "    style s3 fill:#63330f,color:#ffffff\n",
    "    style s2 color:#ffffff,fill:#0f2563\n",
    "    style s1 color:#ffffff,fill:#520f63\n",
    "    style s4 color:#ffffff,fill:#0f6332\n",
    "    linkStyle 0 stroke:#000000,fill:none\n",
    "    linkStyle 1 stroke:#000000,fill:none\n",
    "    linkStyle 2 stroke:#000000,fill:none\n",
    "    linkStyle 3 stroke:#000000,fill:none\n",
    "    linkStyle 4 stroke:#000000,fill:none\n",
    "    linkStyle 5 stroke:#000000,fill:none\n",
    "    linkStyle 6 stroke:#000000,fill:none\n",
    "\n",
    "\n",
    "\n",
    "```\n"
   ]
  }
 ],
 "metadata": {
  "language_info": {
   "name": "python"
  }
 },
 "nbformat": 4,
 "nbformat_minor": 2
}
