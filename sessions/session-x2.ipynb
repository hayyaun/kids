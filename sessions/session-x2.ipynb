{
 "cells": [
  {
   "cell_type": "markdown",
   "metadata": {},
   "source": [
    "# Using Terminal\n",
    "\n",
    "##### Navigating through folders with `cd`\n"
   ]
  },
  {
   "cell_type": "markdown",
   "metadata": {},
   "source": [
    "# Virtual Environments\n",
    "\n",
    "##### Create\n",
    "\n",
    "##### Activate\n",
    "\n",
    "##### Deactivate\n"
   ]
  }
 ],
 "metadata": {
  "language_info": {
   "name": "python"
  }
 },
 "nbformat": 4,
 "nbformat_minor": 2
}
