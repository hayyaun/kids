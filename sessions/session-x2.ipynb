{
 "cells": [
  {
   "cell_type": "markdown",
   "metadata": {},
   "source": [
    "# Tracing with log\n",
    "\n",
    "We can follow the value of variables over time.  \n",
    "Now we'll learn how to do it manually...\n"
   ]
  },
  {
   "cell_type": "code",
   "execution_count": 1,
   "metadata": {},
   "outputs": [
    {
     "name": "stdout",
     "output_type": "stream",
     "text": [
      "n = 5\n",
      "answer = 1\n",
      "i = 1\n",
      "answer = 1\n",
      "i = 2\n",
      "answer = 2\n",
      "i = 3\n",
      "answer = 6\n",
      "i = 4\n",
      "answer = 24\n",
      "i = 5\n",
      "answer = 120\n",
      "120\n"
     ]
    }
   ],
   "source": [
    "n = int(input('Enter a number: '))\n",
    "print(f'n = {n}')\n",
    "answer = 1\n",
    "print(f'answer = {answer}')\n",
    "for i in range(1, n+1):\n",
    "    print(f'i = {i}')\n",
    "    answer *= i\n",
    "    print(f'answer = {answer}')\n",
    "print(answer)"
   ]
  },
  {
   "cell_type": "markdown",
   "metadata": {},
   "source": [
    "# Debugging\n"
   ]
  },
  {
   "cell_type": "markdown",
   "metadata": {},
   "source": [
    "Learning how to trace python code using `vscode` run and debug.\n"
   ]
  }
 ],
 "metadata": {
  "kernelspec": {
   "display_name": "usr",
   "language": "python",
   "name": "python3"
  },
  "language_info": {
   "codemirror_mode": {
    "name": "ipython",
    "version": 3
   },
   "file_extension": ".py",
   "mimetype": "text/x-python",
   "name": "python",
   "nbconvert_exporter": "python",
   "pygments_lexer": "ipython3",
   "version": "3.12.4"
  }
 },
 "nbformat": 4,
 "nbformat_minor": 2
}
