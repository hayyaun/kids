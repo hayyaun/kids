{
 "cells": [
  {
   "cell_type": "markdown",
   "metadata": {},
   "source": [
    "# Final Game Created By Students\n"
   ]
  },
  {
   "cell_type": "markdown",
   "metadata": {},
   "source": [
    "## Credits\n",
    "\n",
    "| Work                       | Done by |\n",
    "| -------------------------- | ------- |\n",
    "| 1. Create Scene            |         |\n",
    "| 2. Add Keyboard Bindings   |         |\n",
    "| 3. Detect ball hit borders |         |\n",
    "| 4. Detect ball hit paddles |         |\n",
    "| 5. Create Scoreboard       |         |\n"
   ]
  }
 ],
 "metadata": {
  "language_info": {
   "name": "python"
  }
 },
 "nbformat": 4,
 "nbformat_minor": 2
}
