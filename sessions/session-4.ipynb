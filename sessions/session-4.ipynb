{
 "cells": [
  {
   "cell_type": "markdown",
   "metadata": {},
   "source": [
    "# Funtions\n",
    "\n",
    "1. Indentations\n",
    "2. Defining Funcitons\n",
    "3. Calling Functions\n"
   ]
  },
  {
   "cell_type": "code",
   "execution_count": null,
   "metadata": {},
   "outputs": [
    {
     "name": "stdout",
     "output_type": "stream",
     "text": [
      "Hello from my lovely function\n"
     ]
    }
   ],
   "source": [
    "def my_lovely_function():\n",
    "  print('Hello from my lovely function')\n",
    "\n",
    "my_lovely_function()\n",
    "print('done')"
   ]
  },
  {
   "cell_type": "markdown",
   "metadata": {},
   "source": [
    "```mermaid\n",
    "flowchart LR\n",
    " subgraph s1[\"my_lovely_function\"]\n",
    "        n9[\"print Hello\"]\n",
    "  end\n",
    "    n1[\"Untitled Node\"] --> n2[\"my_lovely_function()\"]\n",
    "    n2 --> s1\n",
    "    n10[\"print Done\"] --> n8[\"Untitled Node\"]\n",
    "    s1 --> n10\n",
    "\n",
    "    n9@{ shape: in-out}\n",
    "    n1@{ shape: start}\n",
    "    n2@{ shape: proc}\n",
    "    n10@{ shape: in-out}\n",
    "    n8@{ shape: junction}\n",
    "    style n2 stroke:#AA00FF\n",
    "    style s1 fill:#E1BEE7,stroke:#AA00FF,color:#000000\n",
    "```\n"
   ]
  },
  {
   "cell_type": "markdown",
   "metadata": {},
   "source": [
    "#### 4. Function Arguments\n"
   ]
  },
  {
   "cell_type": "code",
   "execution_count": null,
   "metadata": {},
   "outputs": [
    {
     "name": "stdout",
     "output_type": "stream",
     "text": [
      "3.5 Hi\n",
      "3.5 Hello\n",
      "3.5 Hey\n",
      "done\n"
     ]
    }
   ],
   "source": [
    "def fn(a, b, c):\n",
    "  print(a + b, c)\n",
    "  \n",
    "fn(1, 2.5, 'Hi')\n",
    "fn(a=2, b=1.5, c='Hello')\n",
    "fn(3, 0.5, c='Hey')\n",
    "print('done')"
   ]
  },
  {
   "cell_type": "markdown",
   "metadata": {},
   "source": [
    "```mermaid\n",
    "flowchart LR\n",
    " subgraph s2[\"fn called 1\"]\n",
    "        n13@{ label: \"print 1 + 2.5 , 'Hi'\" }\n",
    "  end\n",
    " subgraph s3[\"fn called 2\"]\n",
    "        n14@{ label: \"print 2+1.5, 'Hello'\" }\n",
    "  end\n",
    " subgraph s4[\"fn called 3\"]\n",
    "        n15@{ label: \"print 3+0.5, 'Hey'\" }\n",
    "  end\n",
    "    n2@{ label: \"fn (1, 2.5, 'Hi')\" } --> s2\n",
    "    n12@{ label: \"fn (3, 0.5, 'Hey')\" } --> s4\n",
    "    n17[\"Untitled Node\"] --> n11@{ label: \"fn (2, 1.5, 'Hello')\" }\n",
    "    n11 --> s3\n",
    "    n16[\"Untitled Node\"] --> n2\n",
    "    s2 --> n18[\"Untitled Node\"]\n",
    "    s3 --> n36[\"Untitled Node\"]\n",
    "    n37[\"Untitled Node\"] --> n12\n",
    "    s4 --> n10[\"print Done\"]\n",
    "    n10 --> n8[\"Untitled Node\"]\n",
    "\n",
    "    n13@{ shape: in-out}\n",
    "    n14@{ shape: in-out}\n",
    "    n15@{ shape: in-out}\n",
    "    n17@{ shape: f-circ}\n",
    "    n16@{ shape: start}\n",
    "    n18@{ shape: junction}\n",
    "    n36@{ shape: f-circ}\n",
    "    n37@{ shape: junction}\n",
    "    n10@{ shape: in-out}\n",
    "    n8@{ shape: stop}\n",
    "    style s2 stroke:#2962FF,color:#000000,fill:#BBDEFB\n",
    "    style s4 stroke:#2962FF,color:#000000,fill:#BBDEFB\n",
    "    style s3 stroke:#2962FF,color:#000000,fill:#BBDEFB\n",
    "```\n"
   ]
  },
  {
   "cell_type": "markdown",
   "metadata": {},
   "source": [
    "#### 5. Return Statement\n"
   ]
  },
  {
   "cell_type": "code",
   "execution_count": 15,
   "metadata": {},
   "outputs": [
    {
     "name": "stdout",
     "output_type": "stream",
     "text": [
      "Sphere Volume: 523\n"
     ]
    }
   ],
   "source": [
    "def sphere_volume(r: float):\n",
    "  v = 4/3 * 3.14 * r**3\n",
    "  return v\n",
    "\n",
    "v = sphere_volume(5)\n",
    "print('Sphere Volume:', int(v))"
   ]
  },
  {
   "cell_type": "markdown",
   "metadata": {},
   "source": [
    "> **Activity**: Factorial Function\n"
   ]
  },
  {
   "cell_type": "code",
   "execution_count": null,
   "metadata": {},
   "outputs": [],
   "source": [
    "# Activity: Factorial Function\n",
    "\n",
    "def factorial(n: int):\n",
    "  answer = 1\n",
    "  # TODO calculate answer\n",
    "  # TODO return the value\n",
    "\n",
    "n = int(input('Enter a number: '))\n",
    "print(f'{n}! = {factorial(n)}')"
   ]
  },
  {
   "cell_type": "markdown",
   "metadata": {},
   "source": [
    "### Call function from another function\n"
   ]
  },
  {
   "cell_type": "code",
   "execution_count": null,
   "metadata": {},
   "outputs": [],
   "source": [
    "def fn_3(x: int):\n",
    "  return x * 2\n",
    "\n",
    "def fn_2():\n",
    "  return 3\n",
    "\n",
    "def fn_1():\n",
    "  x2 = fn_2()\n",
    "  x3 = fn_3(x2)\n",
    "  return x3\n",
    "\n",
    "fn_1()"
   ]
  },
  {
   "cell_type": "markdown",
   "metadata": {},
   "source": [
    "### Passing function to another function as argument\n",
    "\n",
    "This is called a **Callback function**!  \n",
    "In the example below, `fn_2` function is passed as a callback function to `fn_1` function.\n"
   ]
  },
  {
   "cell_type": "code",
   "execution_count": 22,
   "metadata": {},
   "outputs": [
    {
     "name": "stdout",
     "output_type": "stream",
     "text": [
      "fn_3 says: 10\n"
     ]
    }
   ],
   "source": [
    "def fn_2(x: int):\n",
    "  print('fn_3 says:', x*2)\n",
    "\n",
    "def fn_1(fn):\n",
    "  return fn(5)\n",
    "\n",
    "fn_1(fn_2)"
   ]
  },
  {
   "cell_type": "markdown",
   "metadata": {},
   "source": [
    "### Self-calling Function 😯\n",
    "\n",
    "If you call a function from itself, it will loop forever.  \n",
    "So how to prevent it? Using `if` to stop using function and exit.\n"
   ]
  },
  {
   "cell_type": "code",
   "execution_count": 25,
   "metadata": {},
   "outputs": [
    {
     "name": "stdout",
     "output_type": "stream",
     "text": [
      "sum(i..5) = 14\n"
     ]
    }
   ],
   "source": [
    "def fn_wow(i: int):\n",
    "  if i > 5:\n",
    "    return 0\n",
    "  return i + fn_wow(i+1)\n",
    "\n",
    "s = fn_wow(2) # 2 + 3 + 4 + 5 + 0\n",
    "print('sum(i..5) =', s)"
   ]
  }
 ],
 "metadata": {
  "kernelspec": {
   "display_name": "usr",
   "language": "python",
   "name": "python3"
  },
  "language_info": {
   "codemirror_mode": {
    "name": "ipython",
    "version": 3
   },
   "file_extension": ".py",
   "mimetype": "text/x-python",
   "name": "python",
   "nbconvert_exporter": "python",
   "pygments_lexer": "ipython3",
   "version": "3.12.4"
  }
 },
 "nbformat": 4,
 "nbformat_minor": 2
}
