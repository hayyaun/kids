{
 "cells": [
  {
   "cell_type": "markdown",
   "metadata": {},
   "source": [
    "# Creating modules\n",
    "\n",
    "Learning how to create your own modules.\n"
   ]
  },
  {
   "cell_type": "markdown",
   "metadata": {},
   "source": [
    "# Importing modules\n",
    "\n",
    "Learning how to use modules and read documentations.  \n",
    "You can learn more about [Modules](https://www.w3schools.com/python/python_modules.asp) here.\n"
   ]
  },
  {
   "cell_type": "markdown",
   "metadata": {},
   "source": [
    "#### 1. `math` module\n"
   ]
  },
  {
   "cell_type": "code",
   "execution_count": 1,
   "metadata": {},
   "outputs": [
    {
     "name": "stdout",
     "output_type": "stream",
     "text": [
      "PI \t\t= 3.141592653589793\n",
      "Infinity \t= inf\n",
      "Round of 5.6 \t= 6\n",
      "Floor of 5.6 \t= 5\n",
      "Power 2^3 \t= 8.0\n",
      "Factorial of 4 \t= 24\n"
     ]
    }
   ],
   "source": [
    "import math\n",
    "\n",
    "print('PI \\t\\t=', math.pi)\n",
    "print('Infinity \\t=', math.inf)\n",
    "print('Round of 5.6 \\t=', round(5.6))\n",
    "print('Floor of 5.6 \\t=', math.floor(5.6))\n",
    "print('Power 2^3 \\t=', math.pow(2, 3))\n",
    "print('Factorial of 4 \\t=', math.factorial(4))"
   ]
  },
  {
   "cell_type": "markdown",
   "metadata": {},
   "source": [
    "> **Note**: Press `Ctrl+Space` shortcut after you write `math.`  \n",
    "> to see the list of methods under that namespace.\n",
    ">\n",
    "> You can check [this website](https://www.geeksforgeeks.org/python-math-module/) for more method  \n",
    "> or [official documentation](https://docs.python.org/3/library/math.html#module-math)\n"
   ]
  },
  {
   "cell_type": "markdown",
   "metadata": {},
   "source": [
    "#### 2. `random` module\n"
   ]
  },
  {
   "cell_type": "code",
   "execution_count": null,
   "metadata": {},
   "outputs": [
    {
     "name": "stdout",
     "output_type": "stream",
     "text": [
      "0.7836777921012587 0.3681981325014849\n",
      "13\n",
      "3\n"
     ]
    }
   ],
   "source": [
    "import random\n",
    "\n",
    "a = random.random()  # 0 - 1\n",
    "b = random.random()  # 0 - 1\n",
    "c = random.randint(5, 20)\n",
    "\n",
    "l1 = [1, 2, 3, 5, 6, 7]\n",
    "d = random.choice(l1)\n",
    "\n",
    "print(a, b)\n",
    "print(c)\n",
    "print(d)"
   ]
  },
  {
   "cell_type": "markdown",
   "metadata": {},
   "source": [
    "> You can check [this link](https://www.geeksforgeeks.org/python-random-module/) for more.  \n",
    "> **Exercise**: 6-1. Number guessing game 🎲\n"
   ]
  },
  {
   "cell_type": "markdown",
   "metadata": {},
   "source": [
    "#### 3. `datetime` module\n"
   ]
  },
  {
   "cell_type": "code",
   "execution_count": 34,
   "metadata": {},
   "outputs": [
    {
     "name": "stdout",
     "output_type": "stream",
     "text": [
      "Today:  2025-01-27 12:01:26.450454\n",
      "COVID start:  2019-12-15 00:00:00\n",
      "COVID end:  2023-05-05 00:00:00\n",
      "COVID duration:  1237 days, 0:00:00\n",
      "since COVID ended:  633 days, 12:01:26.450454\n"
     ]
    }
   ],
   "source": [
    "import datetime\n",
    "\n",
    "today = datetime.datetime.now()\n",
    "covid_start = datetime.datetime(2019, 12, 15)\n",
    "covid_end = datetime.datetime(2023, 5, 5)\n",
    "\n",
    "print('Today: ', today)\n",
    "print('COVID start: ', covid_start)\n",
    "print('COVID end: ', covid_end)\n",
    "print('COVID duration: ', covid_end - covid_start)\n",
    "print('since COVID ended: ', today - covid_end)"
   ]
  },
  {
   "cell_type": "markdown",
   "metadata": {},
   "source": [
    "> Check [this link](https://www.geeksforgeeks.org/python-datetime-module/) if you need more.\n"
   ]
  },
  {
   "cell_type": "markdown",
   "metadata": {},
   "source": [
    "#### 4. `platform` module\n"
   ]
  },
  {
   "cell_type": "code",
   "execution_count": null,
   "metadata": {},
   "outputs": [
    {
     "name": "stdout",
     "output_type": "stream",
     "text": [
      "Platform:  Linux-6.10.13-3-MANJARO-x86_64-with-glibc2.40\n",
      "OS:  Linux\n",
      "Machine name:  garfield\n",
      "Python version:  3.12.6\n"
     ]
    }
   ],
   "source": [
    "import platform\n",
    "\n",
    "print('Platform:', platform.platform())\n",
    "print('Architecture:', platform.architecture())\n",
    "print('Operating system:', platform.system()) \n",
    "print('Machine name:', platform.node())\n",
    "print('Python version:', platform.python_version())"
   ]
  },
  {
   "cell_type": "markdown",
   "metadata": {},
   "source": [
    "#### 5. `tkinter` module"
   ]
  },
  {
   "cell_type": "code",
   "execution_count": 43,
   "metadata": {},
   "outputs": [],
   "source": [
    "from tkinter import Button, Label, Tk\n",
    "\n",
    "win = Tk()\n",
    "win.title('Nodet Code')\n",
    "win.geometry('600x400')\n",
    "win.configure(bg='mediumpurple')\n",
    "txt = Label(win, text='Hello Nodet!').pack()\n",
    "btn = Button(win, text='Bye!', command=win.destroy).pack()\n",
    "win.mainloop()"
   ]
  },
  {
   "cell_type": "markdown",
   "metadata": {},
   "source": [
    "> You can learn more about tkinter [from this website](https://www.geeksforgeeks.org/python-gui-tkinter/)  \n",
    "> **Activity**: See how to create `annoying.py`  \n",
    "> **Exercise**: 6-2. Graphical Calculator\n"
   ]
  },
  {
   "cell_type": "markdown",
   "metadata": {},
   "source": [
    "#### 6. `colorama` module 💅\n"
   ]
  },
  {
   "cell_type": "code",
   "execution_count": null,
   "metadata": {},
   "outputs": [
    {
     "name": "stdout",
     "output_type": "stream",
     "text": [
      "\u001b[35m> some magneta text\n",
      "\u001b[30m\u001b[46m> cyan background\u001b[0m\n",
      "> style reset!\n"
     ]
    }
   ],
   "source": [
    "from colorama import Back, Fore, Style\n",
    "\n",
    "print(Fore.MAGENTA + '> some purple text ')\n",
    "print(Fore.BLACK + Back.CYAN + '> with cyan background ')\n",
    "print(Style.RESET_ALL + '> back to normal now ')"
   ]
  },
  {
   "cell_type": "markdown",
   "metadata": {},
   "source": [
    "> **Note**: You can use `colorama` for exercises too! 🤩\n",
    "\n"
   ]
  }
 ],
 "metadata": {
  "kernelspec": {
   "display_name": "usr",
   "language": "python",
   "name": "python3"
  },
  "language_info": {
   "codemirror_mode": {
    "name": "ipython",
    "version": 3
   },
   "file_extension": ".py",
   "mimetype": "text/x-python",
   "name": "python",
   "nbconvert_exporter": "python",
   "pygments_lexer": "ipython3",
   "version": "3.12.7"
  }
 },
 "nbformat": 4,
 "nbformat_minor": 2
}
