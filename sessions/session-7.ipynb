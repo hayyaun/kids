{
 "cells": [
  {
   "cell_type": "markdown",
   "metadata": {},
   "source": [
    "# Installing modules\n",
    "\n",
    "The goal of this session is to choose a library  \n",
    "and learn it in the class together.  \n",
    "Learning to read documentations and understand them  \n",
    "is an important step towards getting into coding!\n"
   ]
  },
  {
   "cell_type": "markdown",
   "metadata": {},
   "source": [
    "### Installing and Learning a library of student's choice:\n",
    "\n",
    "- `NumPy` — NumPy is a library for scientific computing.\n",
    "- `Pandas` — Pandas is a library for data manipulation and analysis.\n",
    "- `Turtle` — Turtle is a library for drawing and animating shapes.\n",
    "- `Matplotlib` — Matplotlib is a library for data visualization.\n"
   ]
  },
  {
   "cell_type": "markdown",
   "metadata": {},
   "source": [
    "> **Work**: Students can prepare their works with an installed modules.  \n",
    "> **Exercise**: 7. Smiley Face usign `Turtle`  \n"
   ]
  },
  {
   "cell_type": "markdown",
   "metadata": {},
   "source": [
    "### A few more modules\n"
   ]
  },
  {
   "cell_type": "code",
   "execution_count": 30,
   "metadata": {},
   "outputs": [],
   "source": [
    "\n",
    "# playsound module\n",
    "\n",
    "from playsound import playsound\n",
    "\n",
    "done = input('Is class finished? ')\n",
    "\n",
    "while done.lower() != 'yes':\n",
    "  playsound('../.assets/bruh.mp3')\n",
    "  done = input('IS CLASS FINISHED? ')\n",
    "\n",
    "playsound('../.assets/putin.mp3')"
   ]
  }
 ],
 "metadata": {
  "kernelspec": {
   "display_name": "usr",
   "language": "python",
   "name": "python3"
  },
  "language_info": {
   "codemirror_mode": {
    "name": "ipython",
    "version": 3
   },
   "file_extension": ".py",
   "mimetype": "text/x-python",
   "name": "python",
   "nbconvert_exporter": "python",
   "pygments_lexer": "ipython3",
   "version": "3.12.4"
  }
 },
 "nbformat": 4,
 "nbformat_minor": 2
}
