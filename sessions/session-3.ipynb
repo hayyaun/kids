{
 "cells": [
  {
   "cell_type": "markdown",
   "metadata": {},
   "source": [
    "# Conitional Statement\n",
    "\n",
    "- `if` (اگه)\n",
    "- `elif` (در غیر اینصورت اگه)\n",
    "- `else` (در غیر این صورت)\n",
    "\n",
    "1. Use `if ... :`\n",
    "2. Indentation with `Tab` key.\n",
    "3. Order of using\n"
   ]
  },
  {
   "cell_type": "code",
   "execution_count": 1,
   "metadata": {},
   "outputs": [
    {
     "name": "stdout",
     "output_type": "stream",
     "text": [
      "x is smaller than 100\n"
     ]
    }
   ],
   "source": [
    "x = 50\n",
    "if x > 100:\n",
    "  print(\"x is bigger than 100\")\n",
    "else:\n",
    "  print(\"x is smaller than 100\")"
   ]
  },
  {
   "cell_type": "markdown",
   "metadata": {},
   "source": [
    "```mermaid\n",
    "flowchart LR\n",
    "    n1[\"Untitled Node\"] --> n2[\"x = 50\"]\n",
    "    n2 --> n3[\"x &gt; 100\"]\n",
    "    n3 -- True --> n5@{ label: \"<div style=\\\"color:\\\"><div style=\\\"color:\\\"><span style=\\\"color:\\\">x is bigger than 100</span></div></div>\" }\n",
    "    n5 --> n8[\"Untitled Node\"]\n",
    "    n7@{ label: \"<div style=\\\"color:\\\"><span style=\\\"color:\\\">x is smaller than 100</span></div>\" } --> n8\n",
    "    n3 -- False --> n7\n",
    "\n",
    "    n1@{ shape: start}\n",
    "    n2@{ shape: proc}\n",
    "    n3@{ shape: decision}\n",
    "    n8@{ shape: junction}\n",
    "```\n"
   ]
  },
  {
   "cell_type": "code",
   "execution_count": 2,
   "metadata": {},
   "outputs": [
    {
     "name": "stdout",
     "output_type": "stream",
     "text": [
      "😭\n"
     ]
    }
   ],
   "source": [
    "if \"Hi\" != \"Hello\": # True\n",
    "  print(\"😭\")\n",
    "elif 2*2 == 4: # True\n",
    "  print(\"😎\")\n",
    "else: \n",
    "  print(\"😳\")"
   ]
  },
  {
   "cell_type": "code",
   "execution_count": null,
   "metadata": {},
   "outputs": [],
   "source": [
    "# Activity: Even or Odd number\n",
    "\n",
    "n = int(input('Enter a number: '))\n",
    "# TODO tell if it's even\n",
    "# TODO tell if it's odd"
   ]
  },
  {
   "cell_type": "markdown",
   "metadata": {},
   "source": [
    "# Loops\n",
    "\n",
    "- `while` loop (تا وقتی که)\n",
    "- `for` loop (به ازای هر)\n",
    "- Using `break` to exit loop\n",
    "- Using `continue` to skip a cycle\n",
    "- Nested loops\n"
   ]
  },
  {
   "cell_type": "code",
   "execution_count": null,
   "metadata": {},
   "outputs": [
    {
     "name": "stdout",
     "output_type": "stream",
     "text": [
      "0 1 2 3 4 5 6 7 8 9 10 11 12 13 14 15 16 17 18 19 "
     ]
    }
   ],
   "source": [
    "# while loop\n",
    "\n",
    "i = 0\n",
    "while i < 20:\n",
    "  print(i, end=' ')\n",
    "  i += 1"
   ]
  },
  {
   "cell_type": "markdown",
   "metadata": {},
   "source": [
    "```mermaid\n",
    "flowchart LR\n",
    " subgraph s1[\"main loop\"]\n",
    "        n3[\"i &lt; 20\"]\n",
    "        n5@{ label: \"<div style=\\\"color:\\\"><div style=\\\"color:\\\"><span style=\\\"color:\\\">print i</span></div></div>\" }\n",
    "        n7[\"i += 1\"]\n",
    "  end\n",
    "    n1[\"Untitled Node\"] --> n2[\"i = 0\"]\n",
    "    n2 --> n3\n",
    "    n3 -- True --> n5\n",
    "    n5 --> n7\n",
    "    n7 --> n3\n",
    "    n3 -- False --> n8@{ label: \"<div style=\\\"color:\\\"><span style=\\\"color:\\\">i += 1</span></div>\" }\n",
    "\n",
    "    n3@{ shape: decision}\n",
    "    n1@{ shape: start}\n",
    "    n2@{ shape: proc}\n",
    "    n8@{ shape: stop}\n",
    "```"
   ]
  },
  {
   "cell_type": "code",
   "execution_count": null,
   "metadata": {},
   "outputs": [
    {
     "name": "stdout",
     "output_type": "stream",
     "text": [
      "0 1 2 3 4 5 6 7 8 9 10 11 12 13 14 15 16 17 18 19 "
     ]
    }
   ],
   "source": [
    "# using range function\n",
    "\n",
    "# به ازای هر عدد در بازه ۲۰\n",
    "for i in range(20):\n",
    "  print(i, end=' ')"
   ]
  },
  {
   "cell_type": "code",
   "execution_count": null,
   "metadata": {},
   "outputs": [
    {
     "name": "stdout",
     "output_type": "stream",
     "text": [
      "b a n n a n a "
     ]
    }
   ],
   "source": [
    "# iterating over a string\n",
    "\n",
    "# به ازای هر حرف در کلمه موز\n",
    "for x in \"bannana\":\n",
    "  print(x, end=' ')"
   ]
  },
  {
   "cell_type": "code",
   "execution_count": 15,
   "metadata": {},
   "outputs": [
    {
     "name": "stdout",
     "output_type": "stream",
     "text": [
      "15 25 35 45 55 "
     ]
    }
   ],
   "source": [
    "# using range function with start, end, step\n",
    "\n",
    "for x in range(15, 58, 10):\n",
    "  print(x, end=' ')"
   ]
  },
  {
   "cell_type": "code",
   "execution_count": 16,
   "metadata": {},
   "outputs": [
    {
     "name": "stdout",
     "output_type": "stream",
     "text": [
      "0 2 4 6 8 10 12 14 16 18 20 "
     ]
    }
   ],
   "source": [
    "# using break to exit early loop\n",
    "\n",
    "for i in range(85):\n",
    "  if i > 10:\n",
    "    break\n",
    "  print(i*2, end=' ')"
   ]
  },
  {
   "cell_type": "markdown",
   "metadata": {},
   "source": [
    "#### Nested Loop\n",
    "\n",
    "```mermaid\n",
    "flowchart LR\n",
    " subgraph s2[\"main loop\"]\n",
    "        n3[\"i &lt; 7\"]\n",
    "        n7[\"i += 1\"]\n",
    "        n5@{ label: \"<div style=\\\"color:\\\"><div style=\\\"color:\\\"><span style=\\\"color:\\\">j = 1</span></div></div>\" }\n",
    "        s1[\"s1\"]\n",
    "  end\n",
    " subgraph s1[\"inner loop\"]\n",
    "        n10[\"j &lt; 4\"]\n",
    "        n9[\"print i, j\"]\n",
    "        n11[\"j += 1\"]\n",
    "  end\n",
    "    n1[\"Untitled Node\"] --> n2[\"i = 1\"]\n",
    "    n7 --> n3\n",
    "    n9 --> n11\n",
    "    n5 --> n10\n",
    "    n11 --> n10\n",
    "    n2 --> n3\n",
    "    n10 -- False --> n7\n",
    "    n3 -- True --> n5\n",
    "    n10 -- True --> n9\n",
    "    n3 -- False --> n8@{ label: \"<div style=\\\"color:\\\"><span style=\\\"color:\\\">i += 1</span></div>\" }\n",
    "\n",
    "    n3@{ shape: decision}\n",
    "    n10@{ shape: decision}\n",
    "    n9@{ shape: in-out}\n",
    "    n1@{ shape: start}\n",
    "    n2@{ shape: proc}\n",
    "    n8@{ shape: stop}\n",
    "```\n"
   ]
  },
  {
   "cell_type": "code",
   "execution_count": 6,
   "metadata": {},
   "outputs": [
    {
     "name": "stdout",
     "output_type": "stream",
     "text": [
      "(i=1, j=1)\t(i=1, j=2)\t(i=1, j=3)\t\n",
      "\n",
      "(i=2, j=1)\t(i=2, j=2)\t(i=2, j=3)\t\n",
      "\n",
      "(i=3, j=1)\t(i=3, j=2)\t(i=3, j=3)\t\n",
      "\n",
      "(i=4, j=1)\t(i=4, j=2)\t(i=4, j=3)\t\n",
      "\n",
      "(i=5, j=1)\t(i=5, j=2)\t(i=5, j=3)\t\n",
      "\n",
      "(i=6, j=1)\t(i=6, j=2)\t(i=6, j=3)\t\n",
      "\n"
     ]
    }
   ],
   "source": [
    "# nested loops\n",
    "\n",
    "for i in range(1, 7):\n",
    "  for j in range(1, 4):\n",
    "    print(f'(i={i}, j={j})', end='\\t')\n",
    "  print('\\n')"
   ]
  },
  {
   "cell_type": "code",
   "execution_count": null,
   "metadata": {},
   "outputs": [
    {
     "name": "stdout",
     "output_type": "stream",
     "text": [
      "1 2 4 5 7 8 10 11 13 14 16 17 19 "
     ]
    }
   ],
   "source": [
    "# using range and continue\n",
    "\n",
    "for i in range(20):\n",
    "  if not i % 3: continue # This will ignore any i % 3\n",
    "  print(i, end=' ')"
   ]
  },
  {
   "cell_type": "code",
   "execution_count": null,
   "metadata": {},
   "outputs": [
    {
     "name": "stdout",
     "output_type": "stream",
     "text": [
      "🤢 1 2 3 4 🤢 6 7 8 9 🤢 11 12 13 14 🤢 "
     ]
    }
   ],
   "source": [
    "# using range and continue\n",
    "\n",
    "for i in range(16):\n",
    "  if not i % 5:\n",
    "    print(\"🤢\", end=' ')\n",
    "    continue\n",
    "  print(i, end=' ')"
   ]
  },
  {
   "cell_type": "code",
   "execution_count": null,
   "metadata": {},
   "outputs": [],
   "source": [
    "# Activity: Multiplication Table\n",
    "\n",
    "# HINT: use nested loops!\n",
    "# TODO ..."
   ]
  },
  {
   "cell_type": "markdown",
   "metadata": {},
   "source": [
    "## Infinite Loop\n",
    "\n",
    "Let's stuck in there forever and ever... 😈\n",
    "\n",
    "```mermaid\n",
    "flowchart LR\n",
    " subgraph s2[\"infinite loop\"]\n",
    "        n3[\"True\"]\n",
    "        n5@{ label: \"<div style=\\\"color:\\\"><div style=\\\"color:\\\"><span style=\\\"color:\\\">print Hehe</span></div></div>\" }\n",
    "  end\n",
    "    n3 -- True --> n5\n",
    "    n5 --> n3\n",
    "    n1[\"Untitled Node\"] --> n3\n",
    "\n",
    "    n3@{ shape: decision}\n",
    "    n5@{ shape: in-out}\n",
    "    n1@{ shape: start}\n",
    "```\n"
   ]
  },
  {
   "cell_type": "code",
   "execution_count": null,
   "metadata": {},
   "outputs": [],
   "source": [
    "# 🚨 DO NOT RUN THIS CODE! 🚨\n",
    "# If you run this code, please stop it \n",
    "# and click `...` below and clear output.\n",
    "\n",
    "while True:\n",
    "  print('Hehe')"
   ]
  },
  {
   "cell_type": "markdown",
   "metadata": {},
   "source": [
    "> **Note**: All Games are running inside a infinite loop! How to stop them?\n"
   ]
  }
 ],
 "metadata": {
  "kernelspec": {
   "display_name": "usr",
   "language": "python",
   "name": "python3"
  },
  "language_info": {
   "codemirror_mode": {
    "name": "ipython",
    "version": 3
   },
   "file_extension": ".py",
   "mimetype": "text/x-python",
   "name": "python",
   "nbconvert_exporter": "python",
   "pygments_lexer": "ipython3",
   "version": "3.12.6"
  }
 },
 "nbformat": 4,
 "nbformat_minor": 2
}
